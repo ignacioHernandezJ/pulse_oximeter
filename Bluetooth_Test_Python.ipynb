{
 "cells": [
  {
   "cell_type": "markdown",
   "metadata": {},
   "source": [
    "## Notebook de prueba para experimentar con Bluetooth"
   ]
  },
  {
   "cell_type": "code",
   "execution_count": 1,
   "metadata": {},
   "outputs": [],
   "source": [
    "import socket\n",
    "import asyncio\n",
    "\n",
    "import time\n",
    "from time import sleep\n",
    "from IPython.display import clear_output\n",
    "\n",
    "import pandas as pd"
   ]
  },
  {
   "cell_type": "markdown",
   "metadata": {},
   "source": [
    "### Adafruit"
   ]
  },
  {
   "cell_type": "code",
   "execution_count": 2,
   "metadata": {},
   "outputs": [],
   "source": [
    "import adafruit_ble\n",
    "from adafruit_ble import BLERadio"
   ]
  },
  {
   "cell_type": "code",
   "execution_count": 3,
   "metadata": {},
   "outputs": [],
   "source": [
    "# radio = BLERadio()\n",
    "# print(\"Scanning...\")\n",
    "# found = set()\n",
    "# for entry in radio.start_scan(timeout=60, minimum_rssi=-80):\n",
    "#     addr = entry.address\n",
    "#     if addr not in found:\n",
    "#         print(entry)\n",
    "#     found.add(addr)\n",
    "# found"
   ]
  },
  {
   "cell_type": "code",
   "execution_count": 4,
   "metadata": {},
   "outputs": [],
   "source": [
    "addr = \"FB:2F:07:A1:F7:A3\""
   ]
  },
  {
   "cell_type": "code",
   "execution_count": 5,
   "metadata": {},
   "outputs": [],
   "source": [
    "import _bleio\n",
    "import adafruit_ble\n",
    "\n",
    "from adafruit_ble.advertising.standard import Advertisement\n",
    "from adafruit_ble.services.standard.device_info import DeviceInfoService\n",
    "from adafruit_ble_berrymed_pulse_oximeter import BerryMedPulseOximeterService\n",
    "\n",
    "connection_error = ConnectionError\n",
    "if hasattr(_bleio, \"ConnectionError\"):\n",
    "    connection_error = _bleio.ConnectionError"
   ]
  },
  {
   "cell_type": "code",
   "execution_count": 6,
   "metadata": {},
   "outputs": [],
   "source": [
    "# ble = adafruit_ble.BLERadio()\n",
    "# pulse_ox_connection = None"
   ]
  },
  {
   "cell_type": "markdown",
   "metadata": {},
   "source": [
    "### Establecer conexión con el dispositivo"
   ]
  },
  {
   "cell_type": "code",
   "execution_count": 34,
   "metadata": {},
   "outputs": [],
   "source": [
    "def connect_BLE(target_name=\"BerryMed\", timeout=15):\n",
    "    \n",
    "    print(\"Buscando dispositivos Bluetooth...\")\n",
    "    print(\"Objetivo:\", target_name)\n",
    "    \n",
    "    found = set()\n",
    "    \n",
    "    # Radio para escanear dispositivos\n",
    "    ble = adafruit_ble.BLERadio()\n",
    "    \n",
    "    # Variable para la conexion\n",
    "    global pulse_ox_connection\n",
    "    pulse_ox_connection = None\n",
    "    \n",
    "    for adv in ble.start_scan(Advertisement, timeout=timeout):\n",
    "        name = adv.complete_name\n",
    "        print(adv)\n",
    "        if not name:\n",
    "            continue\n",
    "\n",
    "#         name = name.strip(\"\\x00\")\n",
    "\n",
    "        # \"BerryMed\" devices may have trailing nulls on their name.\n",
    "        if name == target_name:\n",
    "            print(\"\\nEstableciendo conexión con\", name,\"...\")\n",
    "            pulse_ox_connection = ble.connect(adv)\n",
    "            break\n",
    "\n",
    "        elif name not in found:\n",
    "            print(\"Encontrado:\", name, \"(X)\")\n",
    "            found.add(name)\n",
    "\n",
    "    # Stop scanning whether or not we are connected.\n",
    "    ble.stop_scan()\n",
    "    \n",
    "    if pulse_ox_connection and pulse_ox_connection.connected:\n",
    "        print(\"=> Dispositivo conectado.\")\n",
    "    \n",
    "    else:\n",
    "        print(f\"No se ha encontrado el dispositivo '{target_name}'. Deteniendo escaneo.\")"
   ]
  },
  {
   "cell_type": "markdown",
   "metadata": {},
   "source": [
    "## Recibir datos del dispositivo"
   ]
  },
  {
   "cell_type": "code",
   "execution_count": 27,
   "metadata": {},
   "outputs": [],
   "source": [
    "def receive_data():  \n",
    "\n",
    "    if pulse_ox_connection and pulse_ox_connection.connected:\n",
    "        print(\"\\nLeyendo dispositivo...\")\n",
    "        \n",
    "        # Información del dispositivo\n",
    "        if DeviceInfoService in pulse_ox_connection:\n",
    "            dis = pulse_ox_connection[DeviceInfoService]\n",
    "            \n",
    "            # Manufacturer\n",
    "            try: manufacturer = dis.manufacturer\n",
    "            except AttributeError: manufacturer = \"(Manufacturer Not specified)\"\n",
    "            \n",
    "            # Model Number\n",
    "            try: model_number = dis.model_number\n",
    "            except AttributeError: model_number = \"(Model number not specified)\"\n",
    "                \n",
    "            print(\"Device:\", manufacturer, model_number, '\\n')\n",
    "            \n",
    "        else:\n",
    "            print(\"Sin información del dispositivo.\\n\")\n",
    "        \n",
    "    # -- Extracción de datos -- #\n",
    "        pulse_ox_service = pulse_ox_connection[BerryMedPulseOximeterService]\n",
    "        \n",
    "        # Listas de datos\n",
    "        BPM_list  = list()\n",
    "        SpO2_list = list()\n",
    "\n",
    "        timestamps = list()\n",
    "        \n",
    "        global data_full\n",
    "        data_full = list()\n",
    "    \n",
    "        print(\"--- Lectura comenzada ---\\n\")\n",
    "        \n",
    "        t0 = time.perf_counter()\n",
    "        \n",
    "        # Lectura continua\n",
    "        while pulse_ox_connection.connected:\n",
    "            data = pulse_ox_service.values\n",
    "            \n",
    "            # Datos extraídos\n",
    "            if data:\n",
    "                [valid, SpO2, BPM, pleth, finger_inside] = data\n",
    "                \n",
    "                valid = valid and finger_inside and BPM < 255\n",
    "            \n",
    "                if valid:\n",
    "                    t = round(time.perf_counter() - t0, 3)\n",
    "                    timestamps.append(t)\n",
    "                    \n",
    "                    print(f\"Pulso: {BPM}, SpO2: {SpO2}\")\n",
    "                    \n",
    "                    BPM_list.append(BPM)\n",
    "                    SpO2_list.append(SpO2)\n",
    "\n",
    "                    data_full.append(data)\n",
    "            \n",
    "        print(\"\\n--- Lectura finalizada ---\")\n",
    "        \n",
    "        global BPM_series;\n",
    "        global SpO2_series; \n",
    "        \n",
    "        BPM_series  = pd.Series(BPM_list,  index=timestamps)\n",
    "        SpO2_series = pd.Series(SpO2_list, index=timestamps)\n",
    "        \n",
    "        recorded_data = pd.DataFrame()\n",
    "        \n",
    "    print(\"=> Dispositivo desconectado.\")"
   ]
  },
  {
   "cell_type": "markdown",
   "metadata": {},
   "source": [
    "### Error de conexión"
   ]
  },
  {
   "cell_type": "code",
   "execution_count": 12,
   "metadata": {},
   "outputs": [],
   "source": [
    "def connection_pulse_ox_error():\n",
    "    try:\n",
    "        pulse_ox_connection.disconnect()\n",
    "    except connection_error:\n",
    "        pass\n",
    "    pulse_ox_connection = None\n",
    "    \n",
    "    return pulse_ox_connection"
   ]
  },
  {
   "cell_type": "markdown",
   "metadata": {},
   "source": [
    "## Bloque principal"
   ]
  },
  {
   "cell_type": "code",
   "execution_count": 35,
   "metadata": {
    "scrolled": true
   },
   "outputs": [
    {
     "name": "stdout",
     "output_type": "stream",
     "text": [
      "Buscando dispositivos Bluetooth...\n",
      "Objetivo: BerryMed\n",
      "<Advertisement complete_name=[TV] UE40J6202 >\n",
      "Encontrado: [TV] UE40J6202 (X)\n",
      "<Advertisement complete_name= >\n",
      "<Advertisement complete_name=Mi Smart Band 4 >\n",
      "Encontrado: Mi Smart Band 4 (X)\n",
      "<Advertisement complete_name=BerryMed >\n",
      "\n",
      "Estableciendo conexión con BerryMed ...\n",
      "=> Dispositivo conectado.\n",
      "\n",
      "Leyendo dispositivo...\n",
      "Device: Berry BM1000B \n",
      "\n",
      "--- Lectura comenzada ---\n",
      "\n",
      "Pulso: 66, SpO2: 99\n",
      "Pulso: 66, SpO2: 99\n",
      "Pulso: 66, SpO2: 99\n",
      "Pulso: 66, SpO2: 99\n",
      "Pulso: 66, SpO2: 99\n",
      "Pulso: 68, SpO2: 99\n",
      "Pulso: 68, SpO2: 99\n",
      "\n",
      "--- Lectura finalizada ---\n",
      "=> Dispositivo desconectado.\n"
     ]
    }
   ],
   "source": [
    "# sleep(30)\n",
    "connect_BLE(\"BerryMed\", 15)\n",
    "\n",
    "try:\n",
    "    receive_data()\n",
    "    \n",
    "except connection_error:\n",
    "    pulse_ox_connection = connection_pulse_ox_error()"
   ]
  },
  {
   "cell_type": "code",
   "execution_count": 56,
   "metadata": {},
   "outputs": [],
   "source": []
  },
  {
   "cell_type": "markdown",
   "metadata": {},
   "source": [
    "## Utilizando módulo"
   ]
  },
  {
   "cell_type": "code",
   "execution_count": 18,
   "metadata": {},
   "outputs": [],
   "source": [
    "import importlib\n",
    "import PulseOximeterBLE\n",
    "importlib.reload(PulseOximeterBLE)\n",
    "PulseOximeterBLE = PulseOximeterBLE.PulseOximeterBLE"
   ]
  },
  {
   "cell_type": "code",
   "execution_count": 19,
   "metadata": {},
   "outputs": [
    {
     "name": "stdout",
     "output_type": "stream",
     "text": [
      "Buscando dispositivos Bluetooth...\n",
      "- Objetivo: 'BerryMed'\n",
      "\n",
      "Estableciendo conexión con 'BerryMed'...\n",
      "=> Dispositivo conectado\n"
     ]
    }
   ],
   "source": [
    "pulse_ox = PulseOximeterBLE()\n",
    "pulse_ox.connect_pulse_oximeter()"
   ]
  },
  {
   "cell_type": "code",
   "execution_count": 10,
   "metadata": {},
   "outputs": [
    {
     "data": {
      "text/plain": [
       "True"
      ]
     },
     "execution_count": 10,
     "metadata": {},
     "output_type": "execute_result"
    }
   ],
   "source": [
    "pulse_ox.connected"
   ]
  },
  {
   "cell_type": "code",
   "execution_count": 17,
   "metadata": {},
   "outputs": [],
   "source": [
    "# pulse_ox.disconnect_pulse_oximeter()"
   ]
  },
  {
   "cell_type": "code",
   "execution_count": 20,
   "metadata": {},
   "outputs": [
    {
     "name": "stdout",
     "output_type": "stream",
     "text": [
      "Obteniendo datos del dispositivo...\n",
      "Device: Berry BM1000B \n",
      "\n",
      "Duración: 10 segundos\n",
      "--- Lectura comenzada ---\n",
      "\n",
      "Pulso: 70, SpO2: 98\n",
      "Pulso: 70, SpO2: 98\n",
      "Pulso: 84, SpO2: 98\n",
      "Pulso: 84, SpO2: 98\n",
      "\n",
      "Tiempo límite alcanzado: 10.44 (máx 10 seg)\n",
      "\n",
      "--- Lectura finalizada ---\n",
      "=> Dispositivo desconectado\n"
     ]
    }
   ],
   "source": [
    "pulse_ox.read(10)"
   ]
  },
  {
   "cell_type": "code",
   "execution_count": 23,
   "metadata": {},
   "outputs": [
    {
     "data": {
      "text/html": [
       "<div>\n",
       "<style scoped>\n",
       "    .dataframe tbody tr th:only-of-type {\n",
       "        vertical-align: middle;\n",
       "    }\n",
       "\n",
       "    .dataframe tbody tr th {\n",
       "        vertical-align: top;\n",
       "    }\n",
       "\n",
       "    .dataframe thead th {\n",
       "        text-align: right;\n",
       "    }\n",
       "</style>\n",
       "<table border=\"1\" class=\"dataframe\">\n",
       "  <thead>\n",
       "    <tr style=\"text-align: right;\">\n",
       "      <th></th>\n",
       "      <th>BPM</th>\n",
       "      <th>SpO2</th>\n",
       "    </tr>\n",
       "  </thead>\n",
       "  <tbody>\n",
       "    <tr>\n",
       "      <th>3.127</th>\n",
       "      <td>70</td>\n",
       "      <td>98</td>\n",
       "    </tr>\n",
       "    <tr>\n",
       "      <th>5.203</th>\n",
       "      <td>70</td>\n",
       "      <td>98</td>\n",
       "    </tr>\n",
       "    <tr>\n",
       "      <th>7.279</th>\n",
       "      <td>84</td>\n",
       "      <td>98</td>\n",
       "    </tr>\n",
       "    <tr>\n",
       "      <th>9.334</th>\n",
       "      <td>84</td>\n",
       "      <td>98</td>\n",
       "    </tr>\n",
       "  </tbody>\n",
       "</table>\n",
       "</div>"
      ],
      "text/plain": [
       "       BPM  SpO2\n",
       "3.127   70    98\n",
       "5.203   70    98\n",
       "7.279   84    98\n",
       "9.334   84    98"
      ]
     },
     "execution_count": 23,
     "metadata": {},
     "output_type": "execute_result"
    }
   ],
   "source": [
    "pulse_ox.dataframe"
   ]
  },
  {
   "cell_type": "code",
   "execution_count": 189,
   "metadata": {},
   "outputs": [
    {
     "data": {
      "image/png": "[encoded data removed]",
      "text/plain": [
       "<Figure size 1008x504 with 2 Axes>"
      ]
     },
     "metadata": {
      "needs_background": "light"
     },
     "output_type": "display_data"
    }
   ],
   "source": [
    "import matplotlib.pyplot as plt\n",
    "\n",
    "plot_BPM(pulse_ox.BPM_series, pulse_ox.SpO2_series)"
   ]
  },
  {
   "cell_type": "code",
   "execution_count": 105,
   "metadata": {},
   "outputs": [],
   "source": [
    "def plot_BPM(bpm, spo2):\n",
    "    plt.figure(figsize=(14,7))\n",
    "\n",
    "    plt.subplot(1,2,1)\n",
    "    plt.plot(bpm)\n",
    "    plt.ylim([min(bpm)-5, max(bpm)+5])\n",
    "    plt.xlabel('Tiempo (s)')\n",
    "    plt.legend(['Pulso'])\n",
    "\n",
    "    plt.subplot(1,2,2)\n",
    "    plt.plot(spo2, 'C1')\n",
    "    plt.ylim([90,100.5])\n",
    "    plt.xlabel('Tiempo (s)')\n",
    "    plt.legend(['Saturación'])"
   ]
  },
  {
   "cell_type": "code",
   "execution_count": null,
   "metadata": {},
   "outputs": [],
   "source": [
    "\n",
    "\n",
    "\n",
    "\n",
    "\n",
    "\n"
   ]
  },
  {
   "cell_type": "code",
   "execution_count": null,
   "metadata": {
    "scrolled": false
   },
   "outputs": [],
   "source": [
    "try:\n",
    "    if pulse_ox_connection and pulse_ox_connection.connected:\n",
    "        print(\"Fetch connection\")\n",
    "        if DeviceInfoService in pulse_ox_connection:\n",
    "            dis = pulse_ox_connection[DeviceInfoService]\n",
    "            try:\n",
    "                manufacturer = dis.manufacturer\n",
    "            except AttributeError:\n",
    "                manufacturer = \"(Manufacturer Not specified)\"\n",
    "                \n",
    "            try:\n",
    "                model_number = dis.model_number\n",
    "            except AttributeError:\n",
    "                model_number = \"(Model number not specified)\"\n",
    "                \n",
    "            print(\"Device:\", manufacturer, model_number)\n",
    "            \n",
    "        else:\n",
    "            print(\"No device information\")\n",
    "        pulse_ox_service = pulse_ox_connection[BerryMedPulseOximeterService]\n",
    "        \n",
    "        while pulse_ox_connection.connected:\n",
    "            print(pulse_ox_service.values)\n",
    "            \n",
    "except connection_error:\n",
    "    try:\n",
    "        pulse_ox_connection.disconnect()\n",
    "    except connection_error:\n",
    "        pass\n",
    "    pulse_ox_connection = None"
   ]
  },
  {
   "cell_type": "code",
   "execution_count": 86,
   "metadata": {},
   "outputs": [
    {
     "data": {
      "text/plain": [
       "False"
      ]
     },
     "execution_count": 86,
     "metadata": {},
     "output_type": "execute_result"
    }
   ],
   "source": [
    "dir(pulse_ox_connection)\n",
    "pulse_ox_connection.connected"
   ]
  },
  {
   "cell_type": "markdown",
   "metadata": {},
   "source": [
    "--------------"
   ]
  },
  {
   "cell_type": "markdown",
   "metadata": {},
   "source": [
    "### PyBluez"
   ]
  },
  {
   "cell_type": "code",
   "execution_count": 2,
   "metadata": {},
   "outputs": [
    {
     "data": {
      "text/plain": [
       "[]"
      ]
     },
     "execution_count": 2,
     "metadata": {},
     "output_type": "execute_result"
    }
   ],
   "source": [
    "import bluetooth\n",
    "devices = bluetooth.discover_devices(duration=10)\n",
    "devices"
   ]
  },
  {
   "cell_type": "code",
   "execution_count": 3,
   "metadata": {},
   "outputs": [],
   "source": [
    "address = '64:B5:C6:41:59:E0'\n",
    "address = 'AC:C1:EE:00:DA:3F'"
   ]
  },
  {
   "cell_type": "code",
   "execution_count": 4,
   "metadata": {},
   "outputs": [],
   "source": [
    "addr = \"\""
   ]
  },
  {
   "cell_type": "code",
   "execution_count": 5,
   "metadata": {},
   "outputs": [],
   "source": [
    "joycon_right = '74:F9:CA:85:08:F3'\n",
    "joycon_left = '04:03:D6:66:92:60'"
   ]
  },
  {
   "cell_type": "code",
   "execution_count": 6,
   "metadata": {},
   "outputs": [],
   "source": [
    "# address = devices[2]; print(address)"
   ]
  },
  {
   "cell_type": "code",
   "execution_count": 8,
   "metadata": {},
   "outputs": [],
   "source": [
    "# JC_Right_SV = bluetooth.find_service(address=joycon_right)\n",
    "# JC_Right_SV[1]"
   ]
  },
  {
   "cell_type": "code",
   "execution_count": 9,
   "metadata": {},
   "outputs": [],
   "source": [
    "# JC_Right_SV[1]"
   ]
  },
  {
   "cell_type": "code",
   "execution_count": 10,
   "metadata": {},
   "outputs": [
    {
     "ename": "ValueError",
     "evalue": "invalid protocol",
     "output_type": "error",
     "traceback": [
      "\u001b[1;31m---------------------------------------------------------------------------\u001b[0m",
      "\u001b[1;31mValueError\u001b[0m                                Traceback (most recent call last)",
      "\u001b[1;32m<ipython-input-10-e3a22076e586>\u001b[0m in \u001b[0;36m<module>\u001b[1;34m\u001b[0m\n\u001b[1;32m----> 1\u001b[1;33m \u001b[0msock\u001b[0m \u001b[1;33m=\u001b[0m \u001b[0mbluetooth\u001b[0m\u001b[1;33m.\u001b[0m\u001b[0mBluetoothSocket\u001b[0m\u001b[1;33m(\u001b[0m \u001b[0mbluetooth\u001b[0m\u001b[1;33m.\u001b[0m\u001b[0mL2CAP\u001b[0m \u001b[1;33m)\u001b[0m\u001b[1;33m\u001b[0m\u001b[1;33m\u001b[0m\u001b[0m\n\u001b[0m",
      "\u001b[1;32m~\\anaconda3\\envs\\emotional_films\\lib\\site-packages\\bluetooth\\msbt.py\u001b[0m in \u001b[0;36m__init__\u001b[1;34m(self, proto, sockfd)\u001b[0m\n\u001b[0;32m     48\u001b[0m     \u001b[1;32mdef\u001b[0m \u001b[0m__init__\u001b[0m \u001b[1;33m(\u001b[0m\u001b[0mself\u001b[0m\u001b[1;33m,\u001b[0m \u001b[0mproto\u001b[0m \u001b[1;33m=\u001b[0m \u001b[0mRFCOMM\u001b[0m\u001b[1;33m,\u001b[0m \u001b[0msockfd\u001b[0m \u001b[1;33m=\u001b[0m \u001b[1;32mNone\u001b[0m\u001b[1;33m)\u001b[0m\u001b[1;33m:\u001b[0m\u001b[1;33m\u001b[0m\u001b[1;33m\u001b[0m\u001b[0m\n\u001b[0;32m     49\u001b[0m         \u001b[1;32mif\u001b[0m \u001b[0mproto\u001b[0m \u001b[1;32mnot\u001b[0m \u001b[1;32min\u001b[0m \u001b[1;33m[\u001b[0m \u001b[0mRFCOMM\u001b[0m \u001b[1;33m]\u001b[0m\u001b[1;33m:\u001b[0m\u001b[1;33m\u001b[0m\u001b[1;33m\u001b[0m\u001b[0m\n\u001b[1;32m---> 50\u001b[1;33m             \u001b[1;32mraise\u001b[0m \u001b[0mValueError\u001b[0m \u001b[1;33m(\u001b[0m\u001b[1;34m\"invalid protocol\"\u001b[0m\u001b[1;33m)\u001b[0m\u001b[1;33m\u001b[0m\u001b[1;33m\u001b[0m\u001b[0m\n\u001b[0m\u001b[0;32m     51\u001b[0m \u001b[1;33m\u001b[0m\u001b[0m\n\u001b[0;32m     52\u001b[0m         \u001b[1;32mif\u001b[0m \u001b[0msockfd\u001b[0m\u001b[1;33m:\u001b[0m\u001b[1;33m\u001b[0m\u001b[1;33m\u001b[0m\u001b[0m\n",
      "\u001b[1;31mValueError\u001b[0m: invalid protocol"
     ]
    }
   ],
   "source": [
    "sock = bluetooth.BluetoothSocket( bluetooth.L2CAP )"
   ]
  },
  {
   "cell_type": "code",
   "execution_count": null,
   "metadata": {},
   "outputs": [],
   "source": [
    "services = bluetooth.find_service()\n",
    "print(len(services), \"servicios encontrados.\")"
   ]
  },
  {
   "cell_type": "code",
   "execution_count": null,
   "metadata": {},
   "outputs": [],
   "source": [
    "service_devices = dict()\n",
    "\n",
    "for elem in services:\n",
    "    clear_output()\n",
    "    \n",
    "    name = elem['name']\n",
    "    port = elem['port']\n",
    "    host = elem['host']\n",
    "    \n",
    "    print(\"Nombre:\", name)\n",
    "    print(\"Puerto:\", port)\n",
    "    print(\"Direc.:\", host)\n",
    "    print('\\n',elem)\n",
    "    \n",
    "    if host in service_devices.keys():\n",
    "        service_devices[host].append(name)\n",
    "    else:\n",
    "        service_devices[host] = list()\n",
    "    \n",
    "    input()"
   ]
  },
  {
   "cell_type": "code",
   "execution_count": null,
   "metadata": {},
   "outputs": [],
   "source": [
    "for key in devices:\n",
    "    print(\"Host:\", key)\n",
    "    print(devices[key])\n",
    "    print('\\n')"
   ]
  },
  {
   "cell_type": "code",
   "execution_count": null,
   "metadata": {
    "scrolled": false
   },
   "outputs": [],
   "source": [
    "address_services = bluetooth.find_service(address= address)\n",
    "raw = add_services[0]['rawrecord']"
   ]
  },
  {
   "cell_type": "code",
   "execution_count": null,
   "metadata": {},
   "outputs": [],
   "source": [
    "host = 'AC:C1:EE:00:DA:3F'\n",
    "name = b'Advanced Audio\\x00'\n",
    "port = 25"
   ]
  },
  {
   "cell_type": "code",
   "execution_count": null,
   "metadata": {},
   "outputs": [],
   "source": [
    "address_services"
   ]
  },
  {
   "cell_type": "code",
   "execution_count": null,
   "metadata": {},
   "outputs": [],
   "source": [
    "host ='AC:C1:EE:00:DA:3F'\n",
    "name = b'Android Network User\\x00'\n",
    "port = 15"
   ]
  },
  {
   "cell_type": "code",
   "execution_count": null,
   "metadata": {},
   "outputs": [],
   "source": [
    "import socket\n",
    "socket."
   ]
  },
  {
   "cell_type": "code",
   "execution_count": null,
   "metadata": {
    "scrolled": true
   },
   "outputs": [],
   "source": [
    "socket = bluetooth.BluetoothSocket( bluetooth.L2CAP )\n",
    "socket.bind((host, port))"
   ]
  },
  {
   "cell_type": "code",
   "execution_count": null,
   "metadata": {},
   "outputs": [],
   "source": [
    "socket.AF_"
   ]
  },
  {
   "cell_type": "code",
   "execution_count": null,
   "metadata": {},
   "outputs": [],
   "source": [
    "import socket\n",
    "\n",
    "channel = 4\n",
    "\n",
    "s = socket.socket(socket.AF_BLUETOOTH, socket.SOCK_STREAM, socket.BTPROTO_RFCOMM)\n",
    "s.connect((host,port))\n",
    "s_sock = server_sock.accept()\n",
    "print (\"Accepted connection from \"+address)\n",
    "\n",
    "data = s_sock.recv(1024)\n",
    "print (\"received [%s]\" % data)\n",
    "\n",
    "s.listen(1)"
   ]
  },
  {
   "cell_type": "code",
   "execution_count": null,
   "metadata": {},
   "outputs": [],
   "source": [
    "if not bluetooth.is_valid_address(address):\n",
    "    print(\"Dirección\", address, \"no válida.\")\n",
    "    \n",
    "sock = bluetooth.BluetoothSocket( bluetooth.RFCOMM )\n",
    "sock.bind((address, 1))\n",
    "sock.listen(1)"
   ]
  },
  {
   "cell_type": "code",
   "execution_count": null,
   "metadata": {},
   "outputs": [],
   "source": [
    "# bluetooth."
   ]
  },
  {
   "cell_type": "markdown",
   "metadata": {},
   "source": [
    "### Bleak"
   ]
  },
  {
   "cell_type": "code",
   "execution_count": 22,
   "metadata": {},
   "outputs": [
    {
     "ename": "RuntimeError",
     "evalue": "This event loop is already running",
     "output_type": "error",
     "traceback": [
      "\u001b[1;31m---------------------------------------------------------------------------\u001b[0m",
      "\u001b[1;31mRuntimeError\u001b[0m                              Traceback (most recent call last)",
      "\u001b[1;32m<ipython-input-22-b2964915a3b5>\u001b[0m in \u001b[0;36m<module>\u001b[1;34m\u001b[0m\n\u001b[0;32m      7\u001b[0m \u001b[1;33m\u001b[0m\u001b[0m\n\u001b[0;32m      8\u001b[0m \u001b[0mloop\u001b[0m \u001b[1;33m=\u001b[0m \u001b[0masyncio\u001b[0m\u001b[1;33m.\u001b[0m\u001b[0mget_event_loop\u001b[0m\u001b[1;33m(\u001b[0m\u001b[1;33m)\u001b[0m\u001b[1;33m\u001b[0m\u001b[1;33m\u001b[0m\u001b[0m\n\u001b[1;32m----> 9\u001b[1;33m \u001b[0mloop\u001b[0m\u001b[1;33m.\u001b[0m\u001b[0mrun_until_complete\u001b[0m\u001b[1;33m(\u001b[0m\u001b[0mrun\u001b[0m\u001b[1;33m(\u001b[0m\u001b[1;33m)\u001b[0m\u001b[1;33m)\u001b[0m\u001b[1;33m\u001b[0m\u001b[1;33m\u001b[0m\u001b[0m\n\u001b[0m",
      "\u001b[1;32m~\\anaconda3\\envs\\emotional_films\\lib\\asyncio\\base_events.py\u001b[0m in \u001b[0;36mrun_until_complete\u001b[1;34m(self, future)\u001b[0m\n\u001b[0;32m    561\u001b[0m         \"\"\"\n\u001b[0;32m    562\u001b[0m         \u001b[0mself\u001b[0m\u001b[1;33m.\u001b[0m\u001b[0m_check_closed\u001b[0m\u001b[1;33m(\u001b[0m\u001b[1;33m)\u001b[0m\u001b[1;33m\u001b[0m\u001b[1;33m\u001b[0m\u001b[0m\n\u001b[1;32m--> 563\u001b[1;33m         \u001b[0mself\u001b[0m\u001b[1;33m.\u001b[0m\u001b[0m_check_runnung\u001b[0m\u001b[1;33m(\u001b[0m\u001b[1;33m)\u001b[0m\u001b[1;33m\u001b[0m\u001b[1;33m\u001b[0m\u001b[0m\n\u001b[0m\u001b[0;32m    564\u001b[0m \u001b[1;33m\u001b[0m\u001b[0m\n\u001b[0;32m    565\u001b[0m         \u001b[0mnew_task\u001b[0m \u001b[1;33m=\u001b[0m \u001b[1;32mnot\u001b[0m \u001b[0mfutures\u001b[0m\u001b[1;33m.\u001b[0m\u001b[0misfuture\u001b[0m\u001b[1;33m(\u001b[0m\u001b[0mfuture\u001b[0m\u001b[1;33m)\u001b[0m\u001b[1;33m\u001b[0m\u001b[1;33m\u001b[0m\u001b[0m\n",
      "\u001b[1;32m~\\anaconda3\\envs\\emotional_films\\lib\\asyncio\\base_events.py\u001b[0m in \u001b[0;36m_check_runnung\u001b[1;34m(self)\u001b[0m\n\u001b[0;32m    521\u001b[0m     \u001b[1;32mdef\u001b[0m \u001b[0m_check_runnung\u001b[0m\u001b[1;33m(\u001b[0m\u001b[0mself\u001b[0m\u001b[1;33m)\u001b[0m\u001b[1;33m:\u001b[0m\u001b[1;33m\u001b[0m\u001b[1;33m\u001b[0m\u001b[0m\n\u001b[0;32m    522\u001b[0m         \u001b[1;32mif\u001b[0m \u001b[0mself\u001b[0m\u001b[1;33m.\u001b[0m\u001b[0mis_running\u001b[0m\u001b[1;33m(\u001b[0m\u001b[1;33m)\u001b[0m\u001b[1;33m:\u001b[0m\u001b[1;33m\u001b[0m\u001b[1;33m\u001b[0m\u001b[0m\n\u001b[1;32m--> 523\u001b[1;33m             \u001b[1;32mraise\u001b[0m \u001b[0mRuntimeError\u001b[0m\u001b[1;33m(\u001b[0m\u001b[1;34m'This event loop is already running'\u001b[0m\u001b[1;33m)\u001b[0m\u001b[1;33m\u001b[0m\u001b[1;33m\u001b[0m\u001b[0m\n\u001b[0m\u001b[0;32m    524\u001b[0m         \u001b[1;32mif\u001b[0m \u001b[0mevents\u001b[0m\u001b[1;33m.\u001b[0m\u001b[0m_get_running_loop\u001b[0m\u001b[1;33m(\u001b[0m\u001b[1;33m)\u001b[0m \u001b[1;32mis\u001b[0m \u001b[1;32mnot\u001b[0m \u001b[1;32mNone\u001b[0m\u001b[1;33m:\u001b[0m\u001b[1;33m\u001b[0m\u001b[1;33m\u001b[0m\u001b[0m\n\u001b[0;32m    525\u001b[0m             raise RuntimeError(\n",
      "\u001b[1;31mRuntimeError\u001b[0m: This event loop is already running"
     ]
    }
   ],
   "source": [
    "from bleak import BleakScanner\n",
    "\n",
    "async def run():\n",
    "    devices = await BleakScanner.discover()\n",
    "    for d in services:\n",
    "        print(d)\n",
    "\n",
    "loop = asyncio.get_event_loop()\n",
    "loop.run_until_complete(run())"
   ]
  },
  {
   "cell_type": "code",
   "execution_count": null,
   "metadata": {},
   "outputs": [],
   "source": [
    "from bleak import BleakClient\n",
    "async with BleakClient(address) as client:\n",
    "    res = client.read_gatt_char()"
   ]
  },
  {
   "cell_type": "code",
   "execution_count": null,
   "metadata": {},
   "outputs": [],
   "source": []
  }
 ],
 "metadata": {
  "kernelspec": {
   "display_name": "Python (Emotional Films)",
   "language": "python",
   "name": "emotional_films"
  },
  "language_info": {
   "codemirror_mode": {
    "name": "ipython",
    "version": 3
   },
   "file_extension": ".py",
   "mimetype": "text/x-python",
   "name": "python",
   "nbconvert_exporter": "python",
   "pygments_lexer": "ipython3",
   "version": "3.7.10"
  }
 },
 "nbformat": 4,
 "nbformat_minor": 4
}
