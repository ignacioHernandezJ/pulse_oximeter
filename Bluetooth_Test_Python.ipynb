{
 "cells": [
  {
   "cell_type": "markdown",
   "metadata": {},
   "source": [
    "## Notebook de prueba para experimentar con Bluetooth"
   ]
  },
  {
   "cell_type": "code",
   "execution_count": 18,
   "metadata": {},
   "outputs": [],
   "source": [
    "import socket\n",
    "import asyncio\n",
    "\n",
    "from time import sleep\n",
    "from IPython.display import clear_output"
   ]
  },
  {
   "cell_type": "markdown",
   "metadata": {},
   "source": [
    "### PyBluez"
   ]
  },
  {
   "cell_type": "code",
   "execution_count": 19,
   "metadata": {},
   "outputs": [
    {
     "data": {
      "text/plain": [
       "['64:B5:C6:41:59:E0',\n",
       " '1C:15:1F:C4:05:47',\n",
       " 'AC:C1:EE:00:DA:3F',\n",
       " '34:7D:F6:0A:09:AF']"
      ]
     },
     "execution_count": 19,
     "metadata": {},
     "output_type": "execute_result"
    }
   ],
   "source": [
    "import bluetooth\n",
    "devices = bluetooth.discover_devices(duration=10)\n",
    "devices"
   ]
  },
  {
   "cell_type": "code",
   "execution_count": 20,
   "metadata": {},
   "outputs": [],
   "source": [
    "address = '64:B5:C6:41:59:E0'\n",
    "address = 'AC:C1:EE:00:DA:3F'"
   ]
  },
  {
   "cell_type": "code",
   "execution_count": null,
   "metadata": {},
   "outputs": [],
   "source": []
  },
  {
   "cell_type": "code",
   "execution_count": null,
   "metadata": {},
   "outputs": [],
   "source": [
    "# address = devices[2]; print(address)"
   ]
  },
  {
   "cell_type": "code",
   "execution_count": 12,
   "metadata": {},
   "outputs": [
    {
     "name": "stdout",
     "output_type": "stream",
     "text": [
      "23 servicios encontrados.\n"
     ]
    }
   ],
   "source": [
    "services = bluetooth.find_service()\n",
    "print(len(services), \"servicios encontrados.\")"
   ]
  },
  {
   "cell_type": "code",
   "execution_count": 21,
   "metadata": {},
   "outputs": [
    {
     "name": "stdout",
     "output_type": "stream",
     "text": [
      "Nombre: b':1.56/Profile/HSPHSProfile/00001108-0000-1000-8000-00805f9b34fb'\n",
      "Puerto: 3\n",
      "Direc.: 34:7D:F6:0A:09:AF\n",
      "\n",
      " {'host': '34:7D:F6:0A:09:AF', 'name': b':1.56/Profile/HSPHSProfile/00001108-0000-1000-8000-00805f9b34fb', 'description': '', 'port': 3, 'protocol': 'RFCOMM', 'rawrecord': b'5\\x96\\t\\x00\\x00\\n\\x00\\x01\\x00\\x08\\t\\x00\\x015\\x11\\x1c\\x00\\x00\\x11\\x08\\x00\\x00\\x10\\x00\\x80\\x00\\x00\\x80_\\x9b4\\xfb\\t\\x00\\x045\\x0c5\\x03\\x19\\x01\\x005\\x05\\x19\\x00\\x03\\x08\\x03\\t\\x00\\x055\\x03\\x19\\x10\\x02\\t\\x00\\t5\\x165\\x14\\x1c\\x00\\x00\\x11\\x08\\x00\\x00\\x10\\x00\\x80\\x00\\x00\\x80_\\x9b4\\xfb\\t\\x01\\x02\\t\\x01\\x00%?:1.56/Profile/HSPHSProfile/00001108-0000-1000-8000-00805f9b34fb', 'service-classes': ['00001108-0000-1000-8000-00805F9B34FB'], 'profiles': [('00001108-0000-1000-8000-00805F9B34FB', 258)], 'provider': None, 'service-id': None, 'handle': 65544}\n",
      "\n"
     ]
    }
   ],
   "source": [
    "service_devices = dict()\n",
    "\n",
    "for elem in services:\n",
    "    clear_output()\n",
    "    \n",
    "    name = elem['name']\n",
    "    port = elem['port']\n",
    "    host = elem['host']\n",
    "    \n",
    "    print(\"Nombre:\", name)\n",
    "    print(\"Puerto:\", port)\n",
    "    print(\"Direc.:\", host)\n",
    "    print('\\n',elem)\n",
    "    \n",
    "    if host in service_devices.keys():\n",
    "        service_devices[host].append(name)\n",
    "    else:\n",
    "        service_devices[host] = list()\n",
    "    \n",
    "    input()"
   ]
  },
  {
   "cell_type": "code",
   "execution_count": 14,
   "metadata": {},
   "outputs": [
    {
     "name": "stdout",
     "output_type": "stream",
     "text": [
      "Host: 34:7D:F6:0A:09:AF\n",
      "[b'Generic Access Profile', b'Generic Attribute Profile', b'AVRCP CT', b'AVRCP TG', b'Audio Sink', b'Audio Source', b'Headset Voice gateway', b':1.56/Profile/HSPHSProfile/00001108-0000-1000-8000-00805f9b34fb']\n",
      "\n",
      "\n",
      "Host: 1C:15:1F:C4:05:47\n",
      "[None, b'Headset Gateway\\x00', b'Handsfree Gateway\\x00', b'AV Remote Control Target\\x00', b'Advanced Audio\\x00', b'NearbyServerSocket\\x00', b'Android Network Access Point\\x00', b'Android Network User\\x00', None, None, b'SMS/MMS\\x00', b'OBEX Object Push\\x00', b'OBEX Phonebook Access Server\\x00']\n",
      "\n",
      "\n"
     ]
    }
   ],
   "source": [
    "for key in devices:\n",
    "    print(\"Host:\", key)\n",
    "    print(devices[key])\n",
    "    print('\\n')"
   ]
  },
  {
   "cell_type": "code",
   "execution_count": 98,
   "metadata": {
    "scrolled": false
   },
   "outputs": [],
   "source": [
    "address_services = bluetooth.find_service(address= address)\n",
    "raw = add_services[0]['rawrecord']"
   ]
  },
  {
   "cell_type": "code",
   "execution_count": 97,
   "metadata": {},
   "outputs": [],
   "source": [
    "host = 'AC:C1:EE:00:DA:3F'\n",
    "name = b'Advanced Audio\\x00'\n",
    "port = 25"
   ]
  },
  {
   "cell_type": "code",
   "execution_count": 99,
   "metadata": {},
   "outputs": [
    {
     "data": {
      "text/plain": [
       "[{'host': 'AC:C1:EE:00:DA:3F',\n",
       "  'name': None,\n",
       "  'description': '',\n",
       "  'port': 31,\n",
       "  'protocol': 'L2CAP',\n",
       "  'rawrecord': b'6\\x000\\t\\x00\\x00\\n\\x00\\x01\\x00\\x00\\t\\x00\\x015\\x03\\x19\\x18\\x01\\t\\x00\\x045\\x135\\x06\\x19\\x01\\x00\\t\\x00\\x1f5\\t\\x19\\x00\\x07\\t\\x00\\x01\\t\\x00\\x05\\t\\x00\\x055\\x03\\x19\\x10\\x02',\n",
       "  'service-classes': [b'1801'],\n",
       "  'profiles': [],\n",
       "  'provider': None,\n",
       "  'service-id': None,\n",
       "  'handle': 65536},\n",
       " {'host': 'AC:C1:EE:00:DA:3F',\n",
       "  'name': None,\n",
       "  'description': '',\n",
       "  'port': 31,\n",
       "  'protocol': 'L2CAP',\n",
       "  'rawrecord': b'6\\x000\\t\\x00\\x00\\n\\x00\\x01\\x00\\x01\\t\\x00\\x015\\x03\\x19\\x18\\x00\\t\\x00\\x045\\x135\\x06\\x19\\x01\\x00\\t\\x00\\x1f5\\t\\x19\\x00\\x07\\t\\x00\\x14\\t\\x00\\x1c\\t\\x00\\x055\\x03\\x19\\x10\\x02',\n",
       "  'service-classes': [b'1800'],\n",
       "  'profiles': [],\n",
       "  'provider': None,\n",
       "  'service-id': None,\n",
       "  'handle': 65537},\n",
       " {'host': 'AC:C1:EE:00:DA:3F',\n",
       "  'name': b'Headset Gateway\\x00',\n",
       "  'description': '',\n",
       "  'port': 2,\n",
       "  'protocol': 'RFCOMM',\n",
       "  'rawrecord': b'6\\x00N\\t\\x00\\x00\\n\\x00\\x01\\x00\\x03\\t\\x00\\x015\\x06\\x19\\x11\\x12\\x19\\x12\\x03\\t\\x00\\x045\\x0c5\\x03\\x19\\x01\\x005\\x05\\x19\\x00\\x03\\x08\\x02\\t\\x00\\x055\\x03\\x19\\x10\\x02\\t\\x00\\t5\\x085\\x06\\x19\\x11\\x08\\t\\x01\\x02\\t\\x01\\x00%\\x10Headset Gateway\\x00',\n",
       "  'service-classes': [b'1112', b'1203'],\n",
       "  'profiles': [(b'1108', 258)],\n",
       "  'provider': None,\n",
       "  'service-id': None,\n",
       "  'handle': 65539},\n",
       " {'host': 'AC:C1:EE:00:DA:3F',\n",
       "  'name': b'Handsfree Gateway\\x00',\n",
       "  'description': '',\n",
       "  'port': 3,\n",
       "  'protocol': 'RFCOMM',\n",
       "  'rawrecord': b\"6\\x00[\\t\\x00\\x00\\n\\x00\\x01\\x00\\x04\\t\\x00\\x015\\x06\\x19\\x11\\x1f\\x19\\x12\\x03\\t\\x00\\x045\\x0c5\\x03\\x19\\x01\\x005\\x05\\x19\\x00\\x03\\x08\\x03\\t\\x00\\x055\\x03\\x19\\x10\\x02\\t\\x00\\t5\\x085\\x06\\x19\\x11\\x1e\\t\\x01\\x06\\t\\x01\\x00%\\x12Handsfree Gateway\\x00\\t\\x03\\x01\\x08\\x01\\t\\x03\\x11\\t\\x00'\",\n",
       "  'service-classes': [b'111f', b'1203'],\n",
       "  'profiles': [(b'111e', 262)],\n",
       "  'provider': None,\n",
       "  'service-id': None,\n",
       "  'handle': 65540},\n",
       " {'host': 'AC:C1:EE:00:DA:3F',\n",
       "  'name': b'AV Remote Control Target\\x00',\n",
       "  'description': '',\n",
       "  'port': 23,\n",
       "  'protocol': 'L2CAP',\n",
       "  'rawrecord': b'6\\x00\\x84\\t\\x00\\x00\\n\\x00\\x01\\x00\\x05\\t\\x00\\x015\\x03\\x19\\x11\\x0c\\t\\x00\\x045\\x105\\x06\\x19\\x01\\x00\\t\\x00\\x175\\x06\\x19\\x00\\x17\\t\\x01\\x04\\t\\x00\\x055\\x03\\x19\\x10\\x02\\t\\x00\\t5\\x085\\x06\\x19\\x11\\x0e\\t\\x01\\x03\\t\\x00\\r5!5\\x105\\x06\\x19\\x01\\x00\\t\\x00\\x1b5\\x06\\x19\\x00\\x17\\t\\x01\\x045\\r5\\x06\\x19\\x01\\x00\\t\\x10!5\\x03\\x19\\x00\\x08\\t\\x01\\x00%\\x19AV Remote Control Target\\x00\\t\\x03\\x11\\t\\x00\\x11',\n",
       "  'service-classes': [b'110c'],\n",
       "  'profiles': [(b'110e', 259)],\n",
       "  'provider': None,\n",
       "  'service-id': None,\n",
       "  'handle': 65541},\n",
       " {'host': 'AC:C1:EE:00:DA:3F',\n",
       "  'name': b'Advanced Audio\\x00',\n",
       "  'description': '',\n",
       "  'port': 25,\n",
       "  'protocol': 'L2CAP',\n",
       "  'rawrecord': b'6\\x00T\\t\\x00\\x00\\n\\x00\\x01\\x00\\x06\\t\\x00\\x015\\x03\\x19\\x11\\n\\t\\x00\\x045\\x105\\x06\\x19\\x01\\x00\\t\\x00\\x195\\x06\\x19\\x00\\x19\\t\\x01\\x02\\t\\x00\\x055\\x03\\x19\\x10\\x02\\t\\x00\\t5\\x085\\x06\\x19\\x11\\r\\t\\x01\\x02\\t\\x01\\x00%\\x0fAdvanced Audio\\x00\\t\\x03\\x11\\t\\x00\\x01',\n",
       "  'service-classes': [b'110a'],\n",
       "  'profiles': [(b'110d', 258)],\n",
       "  'provider': None,\n",
       "  'service-id': None,\n",
       "  'handle': 65542},\n",
       " {'host': 'AC:C1:EE:00:DA:3F',\n",
       "  'name': None,\n",
       "  'description': '',\n",
       "  'port': 23,\n",
       "  'protocol': 'L2CAP',\n",
       "  'rawrecord': b'6\\x00i\\t\\x00\\x00\\n\\x00\\x01\\x00\\x07\\t\\x00\\x015\\x06\\x19\\x11\\x0e\\x19\\x11\\x0f\\t\\x00\\x045\\x105\\x06\\x19\\x01\\x00\\t\\x00\\x175\\x06\\x19\\x00\\x17\\t\\x01\\x04\\t\\x00\\x055\\x03\\x19\\x10\\x02\\t\\x00\\t5\\x085\\x06\\x19\\x11\\x0e\\t\\x01\\x03\\t\\x00\\r5!5\\x105\\x06\\x19\\x01\\x00\\t\\x00\\x1b5\\x06\\x19\\x00\\x17\\t\\x01\\x045\\r5\\x06\\x19\\x01\\x00\\t\\x10!5\\x03\\x19\\x00\\x08\\t\\x03\\x11\\t\\x00\\x03',\n",
       "  'service-classes': [b'110e', b'110f'],\n",
       "  'profiles': [(b'110e', 259)],\n",
       "  'provider': None,\n",
       "  'service-id': None,\n",
       "  'handle': 65543},\n",
       " {'host': 'AC:C1:EE:00:DA:3F',\n",
       "  'name': b'Android Network Access Point\\x00',\n",
       "  'description': 'NAP',\n",
       "  'port': 15,\n",
       "  'protocol': 'L2CAP',\n",
       "  'rawrecord': b'6\\x00\\x8f\\t\\x00\\x00\\n\\x00\\x01\\x00\\x08\\t\\x00\\x015\\x03\\x19\\x11\\x16\\t\\x00\\x045\\x185\\x06\\x19\\x01\\x00\\t\\x00\\x0f5\\x0e\\x19\\x00\\x0f\\t\\x01\\x005\\x06\\t\\x08\\x00\\t\\x08\\x06\\t\\x00\\x055\\x03\\x19\\x10\\x02\\t\\x00\\x065\\t\\ten\\t\\x00j\\t\\x01\\x00\\t\\x00\\t5\\x085\\x06\\x19\\x11\\x16\\t\\x01\\x00\\t\\x01\\x00%\\x1dAndroid Network Access Point\\x00\\t\\x01\\x01%\\x04NAP\\x00\\t\\x03\\n\\t\\x00\\x01\\t\\x03\\x0b\\t\\x00\\x05\\t\\x03\\x0c\\n\\x00\\x13\\x12\\xd0',\n",
       "  'service-classes': [b'1116'],\n",
       "  'profiles': [(b'1116', 256)],\n",
       "  'provider': None,\n",
       "  'service-id': None,\n",
       "  'handle': 65544},\n",
       " {'host': 'AC:C1:EE:00:DA:3F',\n",
       "  'name': b'Android Network User\\x00',\n",
       "  'description': 'PANU',\n",
       "  'port': 15,\n",
       "  'protocol': 'L2CAP',\n",
       "  'rawrecord': b'6\\x00z\\t\\x00\\x00\\n\\x00\\x01\\x00\\t\\t\\x00\\x015\\x03\\x19\\x11\\x15\\t\\x00\\x045\\x185\\x06\\x19\\x01\\x00\\t\\x00\\x0f5\\x0e\\x19\\x00\\x0f\\t\\x01\\x005\\x06\\t\\x08\\x00\\t\\x08\\x06\\t\\x00\\x055\\x03\\x19\\x10\\x02\\t\\x00\\x065\\t\\ten\\t\\x00j\\t\\x01\\x00\\t\\x00\\t5\\x085\\x06\\x19\\x11\\x15\\t\\x01\\x00\\t\\x01\\x00%\\x15Android Network User\\x00\\t\\x01\\x01%\\x05PANU\\x00\\t\\x03\\n\\t\\x00\\x01',\n",
       "  'service-classes': [b'1115'],\n",
       "  'profiles': [(b'1115', 256)],\n",
       "  'provider': None,\n",
       "  'service-id': None,\n",
       "  'handle': 65545},\n",
       " {'host': 'AC:C1:EE:00:DA:3F',\n",
       "  'name': b'OBEX Phonebook Access Server\\x00',\n",
       "  'description': '',\n",
       "  'port': 4,\n",
       "  'protocol': 'RFCOMM',\n",
       "  'rawrecord': b'6\\x00p\\t\\x00\\x00\\n\\x00\\x01\\x00\\n\\t\\x00\\x015\\x03\\x19\\x11/\\t\\x00\\x045\\x115\\x03\\x19\\x01\\x005\\x05\\x19\\x00\\x03\\x08\\x045\\x03\\x19\\x00\\x08\\t\\x00\\x055\\x03\\x19\\x10\\x02\\t\\x00\\t5\\x085\\x06\\x19\\x110\\t\\x01\\x02\\t\\x01\\x00%\\x1dOBEX Phonebook Access Server\\x00\\t\\x02\\x00\\t\\x10\\x01\\t\\x03\\x14\\x08\\x03\\t\\x03\\x17\\n\\x00\\x00\\x02\\x1f',\n",
       "  'service-classes': [b'112f'],\n",
       "  'profiles': [(b'1130', 258)],\n",
       "  'provider': None,\n",
       "  'service-id': None,\n",
       "  'handle': 65546},\n",
       " {'host': 'AC:C1:EE:00:DA:3F',\n",
       "  'name': b'SIM Access\\x00',\n",
       "  'description': '',\n",
       "  'port': 5,\n",
       "  'protocol': 'RFCOMM',\n",
       "  'rawrecord': b'6\\x00I\\t\\x00\\x00\\n\\x00\\x01\\x00\\x0b\\t\\x00\\x015\\x06\\x19\\x11-\\x19\\x12\\x04\\t\\x00\\x045\\x0c5\\x03\\x19\\x01\\x005\\x05\\x19\\x00\\x03\\x08\\x05\\t\\x00\\x055\\x03\\x19\\x10\\x02\\t\\x00\\t5\\x085\\x06\\x19\\x11-\\t\\x01\\x02\\t\\x01\\x00%\\x0bSIM Access\\x00',\n",
       "  'service-classes': [b'112d', b'1204'],\n",
       "  'profiles': [(b'112d', 258)],\n",
       "  'provider': None,\n",
       "  'service-id': None,\n",
       "  'handle': 65547},\n",
       " {'host': 'AC:C1:EE:00:DA:3F',\n",
       "  'name': b'SMS/MMS\\x00',\n",
       "  'description': '',\n",
       "  'port': 6,\n",
       "  'protocol': 'RFCOMM',\n",
       "  'rawrecord': b'6\\x00`\\t\\x00\\x00\\n\\x00\\x01\\x00\\x0c\\t\\x00\\x015\\x03\\x19\\x112\\t\\x00\\x045\\x115\\x03\\x19\\x01\\x005\\x05\\x19\\x00\\x03\\x08\\x065\\x03\\x19\\x00\\x08\\t\\x00\\x055\\x03\\x19\\x10\\x02\\t\\x00\\t5\\x085\\x06\\x19\\x114\\t\\x01\\x02\\t\\x01\\x00%\\x08SMS/MMS\\x00\\t\\x02\\x00\\t\\x10\\x03\\t\\x03\\x15\\x08\\x00\\t\\x03\\x16\\x08\\x0e\\t\\x03\\x17\\n\\x00\\x00\\x00\\x7f',\n",
       "  'service-classes': [b'1132'],\n",
       "  'profiles': [(b'1134', 258)],\n",
       "  'provider': None,\n",
       "  'service-id': None,\n",
       "  'handle': 65548},\n",
       " {'host': 'AC:C1:EE:00:DA:3F',\n",
       "  'name': b'OBEX Object Push\\x00',\n",
       "  'description': '',\n",
       "  'port': 7,\n",
       "  'protocol': 'RFCOMM',\n",
       "  'rawrecord': b'6\\x00j\\t\\x00\\x00\\n\\x00\\x01\\x00\\r\\t\\x00\\x015\\x03\\x19\\x11\\x05\\t\\x00\\x045\\x115\\x03\\x19\\x01\\x005\\x05\\x19\\x00\\x03\\x08\\x075\\x03\\x19\\x00\\x08\\t\\x00\\x055\\x03\\x19\\x10\\x02\\t\\x00\\t5\\x085\\x06\\x19\\x11\\x05\\t\\x01\\x02\\t\\x01\\x00%\\x11OBEX Object Push\\x00\\t\\x02\\x00\\t\\x10\\x05\\t\\x03\\x035\\x0e\\x08\\x01\\x08\\x02\\x08\\x03\\x08\\x04\\x08\\x05\\x08\\x06\\x08\\xff',\n",
       "  'service-classes': [b'1105'],\n",
       "  'profiles': [(b'1105', 258)],\n",
       "  'provider': None,\n",
       "  'service-id': None,\n",
       "  'handle': 65549}]"
      ]
     },
     "execution_count": 99,
     "metadata": {},
     "output_type": "execute_result"
    }
   ],
   "source": [
    "address_services"
   ]
  },
  {
   "cell_type": "code",
   "execution_count": 102,
   "metadata": {},
   "outputs": [],
   "source": [
    "host ='AC:C1:EE:00:DA:3F'\n",
    "name = b'Android Network User\\x00'\n",
    "port = 15"
   ]
  },
  {
   "cell_type": "code",
   "execution_count": 109,
   "metadata": {},
   "outputs": [
    {
     "data": {
      "text/plain": [
       "<module 'socket' from 'C:\\\\Users\\\\MUZGASH\\\\anaconda3\\\\envs\\\\emotional_films\\\\lib\\\\socket.py'>"
      ]
     },
     "execution_count": 109,
     "metadata": {},
     "output_type": "execute_result"
    }
   ],
   "source": [
    "import socket\n",
    "socket."
   ]
  },
  {
   "cell_type": "code",
   "execution_count": 107,
   "metadata": {
    "scrolled": true
   },
   "outputs": [
    {
     "ename": "ValueError",
     "evalue": "invalid protocol",
     "output_type": "error",
     "traceback": [
      "\u001b[1;31m---------------------------------------------------------------------------\u001b[0m",
      "\u001b[1;31mValueError\u001b[0m                                Traceback (most recent call last)",
      "\u001b[1;32m<ipython-input-107-8a85a591b9bb>\u001b[0m in \u001b[0;36m<module>\u001b[1;34m\u001b[0m\n\u001b[1;32m----> 1\u001b[1;33m \u001b[0msocket\u001b[0m \u001b[1;33m=\u001b[0m \u001b[0mbluetooth\u001b[0m\u001b[1;33m.\u001b[0m\u001b[0mBluetoothSocket\u001b[0m\u001b[1;33m(\u001b[0m \u001b[0mbluetooth\u001b[0m\u001b[1;33m.\u001b[0m\u001b[0mL2CAP\u001b[0m \u001b[1;33m)\u001b[0m\u001b[1;33m\u001b[0m\u001b[1;33m\u001b[0m\u001b[0m\n\u001b[0m\u001b[0;32m      2\u001b[0m \u001b[0msocket\u001b[0m\u001b[1;33m.\u001b[0m\u001b[0mbind\u001b[0m\u001b[1;33m(\u001b[0m\u001b[1;33m(\u001b[0m\u001b[0mhost\u001b[0m\u001b[1;33m,\u001b[0m \u001b[0mport\u001b[0m\u001b[1;33m)\u001b[0m\u001b[1;33m)\u001b[0m\u001b[1;33m\u001b[0m\u001b[1;33m\u001b[0m\u001b[0m\n",
      "\u001b[1;32m~\\anaconda3\\envs\\emotional_films\\lib\\site-packages\\bluetooth\\msbt.py\u001b[0m in \u001b[0;36m__init__\u001b[1;34m(self, proto, sockfd)\u001b[0m\n\u001b[0;32m     48\u001b[0m     \u001b[1;32mdef\u001b[0m \u001b[0m__init__\u001b[0m \u001b[1;33m(\u001b[0m\u001b[0mself\u001b[0m\u001b[1;33m,\u001b[0m \u001b[0mproto\u001b[0m \u001b[1;33m=\u001b[0m \u001b[0mRFCOMM\u001b[0m\u001b[1;33m,\u001b[0m \u001b[0msockfd\u001b[0m \u001b[1;33m=\u001b[0m \u001b[1;32mNone\u001b[0m\u001b[1;33m)\u001b[0m\u001b[1;33m:\u001b[0m\u001b[1;33m\u001b[0m\u001b[1;33m\u001b[0m\u001b[0m\n\u001b[0;32m     49\u001b[0m         \u001b[1;32mif\u001b[0m \u001b[0mproto\u001b[0m \u001b[1;32mnot\u001b[0m \u001b[1;32min\u001b[0m \u001b[1;33m[\u001b[0m \u001b[0mRFCOMM\u001b[0m \u001b[1;33m]\u001b[0m\u001b[1;33m:\u001b[0m\u001b[1;33m\u001b[0m\u001b[1;33m\u001b[0m\u001b[0m\n\u001b[1;32m---> 50\u001b[1;33m             \u001b[1;32mraise\u001b[0m \u001b[0mValueError\u001b[0m \u001b[1;33m(\u001b[0m\u001b[1;34m\"invalid protocol\"\u001b[0m\u001b[1;33m)\u001b[0m\u001b[1;33m\u001b[0m\u001b[1;33m\u001b[0m\u001b[0m\n\u001b[0m\u001b[0;32m     51\u001b[0m \u001b[1;33m\u001b[0m\u001b[0m\n\u001b[0;32m     52\u001b[0m         \u001b[1;32mif\u001b[0m \u001b[0msockfd\u001b[0m\u001b[1;33m:\u001b[0m\u001b[1;33m\u001b[0m\u001b[1;33m\u001b[0m\u001b[0m\n",
      "\u001b[1;31mValueError\u001b[0m: invalid protocol"
     ]
    }
   ],
   "source": [
    "socket = bluetooth.BluetoothSocket( bluetooth.L2CAP )\n",
    "socket.bind((host, port))"
   ]
  },
  {
   "cell_type": "code",
   "execution_count": null,
   "metadata": {},
   "outputs": [],
   "source": [
    "socket.AF_"
   ]
  },
  {
   "cell_type": "code",
   "execution_count": 118,
   "metadata": {},
   "outputs": [
    {
     "ename": "AttributeError",
     "evalue": "module 'socket' has no attribute 'AF_BLUETOOTH'",
     "output_type": "error",
     "traceback": [
      "\u001b[1;31m---------------------------------------------------------------------------\u001b[0m",
      "\u001b[1;31mAttributeError\u001b[0m                            Traceback (most recent call last)",
      "\u001b[1;32m<ipython-input-118-5b49970ef68d>\u001b[0m in \u001b[0;36m<module>\u001b[1;34m\u001b[0m\n\u001b[0;32m      3\u001b[0m \u001b[0mchannel\u001b[0m \u001b[1;33m=\u001b[0m \u001b[1;36m4\u001b[0m\u001b[1;33m\u001b[0m\u001b[1;33m\u001b[0m\u001b[0m\n\u001b[0;32m      4\u001b[0m \u001b[1;33m\u001b[0m\u001b[0m\n\u001b[1;32m----> 5\u001b[1;33m \u001b[0ms\u001b[0m \u001b[1;33m=\u001b[0m \u001b[0msocket\u001b[0m\u001b[1;33m.\u001b[0m\u001b[0msocket\u001b[0m\u001b[1;33m(\u001b[0m\u001b[0msocket\u001b[0m\u001b[1;33m.\u001b[0m\u001b[0mAF_BLUETOOTH\u001b[0m\u001b[1;33m,\u001b[0m \u001b[0msocket\u001b[0m\u001b[1;33m.\u001b[0m\u001b[0mSOCK_STREAM\u001b[0m\u001b[1;33m,\u001b[0m \u001b[0msocket\u001b[0m\u001b[1;33m.\u001b[0m\u001b[0mBTPROTO_RFCOMM\u001b[0m\u001b[1;33m)\u001b[0m\u001b[1;33m\u001b[0m\u001b[1;33m\u001b[0m\u001b[0m\n\u001b[0m\u001b[0;32m      6\u001b[0m \u001b[0ms\u001b[0m\u001b[1;33m.\u001b[0m\u001b[0mconnect\u001b[0m\u001b[1;33m(\u001b[0m\u001b[1;33m(\u001b[0m\u001b[0mhost\u001b[0m\u001b[1;33m,\u001b[0m\u001b[0mport\u001b[0m\u001b[1;33m)\u001b[0m\u001b[1;33m)\u001b[0m\u001b[1;33m\u001b[0m\u001b[1;33m\u001b[0m\u001b[0m\n\u001b[0;32m      7\u001b[0m \u001b[0ms_sock\u001b[0m \u001b[1;33m=\u001b[0m \u001b[0mserver_sock\u001b[0m\u001b[1;33m.\u001b[0m\u001b[0maccept\u001b[0m\u001b[1;33m(\u001b[0m\u001b[1;33m)\u001b[0m\u001b[1;33m\u001b[0m\u001b[1;33m\u001b[0m\u001b[0m\n",
      "\u001b[1;31mAttributeError\u001b[0m: module 'socket' has no attribute 'AF_BLUETOOTH'"
     ]
    }
   ],
   "source": [
    "import socket\n",
    "\n",
    "channel = 4\n",
    "\n",
    "s = socket.socket(socket.AF_BLUETOOTH, socket.SOCK_STREAM, socket.BTPROTO_RFCOMM)\n",
    "s.connect((host,port))\n",
    "s_sock = server_sock.accept()\n",
    "print (\"Accepted connection from \"+address)\n",
    "\n",
    "data = s_sock.recv(1024)\n",
    "print (\"received [%s]\" % data)\n",
    "\n",
    "s.listen(1)"
   ]
  },
  {
   "cell_type": "code",
   "execution_count": null,
   "metadata": {},
   "outputs": [],
   "source": [
    "if not bluetooth.is_valid_address(address):\n",
    "    print(\"Dirección\", address, \"no válida.\")\n",
    "    \n",
    "sock = bluetooth.BluetoothSocket( bluetooth.RFCOMM )\n",
    "sock.bind((address, 1))\n",
    "sock.listen(1)"
   ]
  },
  {
   "cell_type": "code",
   "execution_count": null,
   "metadata": {},
   "outputs": [],
   "source": [
    "# bluetooth."
   ]
  },
  {
   "cell_type": "markdown",
   "metadata": {},
   "source": [
    "### Other alternatives"
   ]
  },
  {
   "cell_type": "code",
   "execution_count": null,
   "metadata": {},
   "outputs": [],
   "source": [
    "# import adafruit_ble\n",
    "# from adafruit_ble import BLERadio"
   ]
  },
  {
   "cell_type": "code",
   "execution_count": null,
   "metadata": {},
   "outputs": [],
   "source": [
    "radio = BLERadio()\n",
    "print(\"Scanning...\")\n",
    "found = set()\n",
    "for entry in radio.start_scan(timeout=60, minimum_rssi=-80):\n",
    "    addr = entry.address\n",
    "    print(addr)\n",
    "    if addr not in found:\n",
    "        print(entry)\n",
    "    found.add(addr)"
   ]
  },
  {
   "cell_type": "code",
   "execution_count": null,
   "metadata": {},
   "outputs": [],
   "source": [
    "from bleak import BleakScanner\n",
    "\n",
    "async def run():\n",
    "    devices = await BleakScanner.discover()\n",
    "    for d in services:\n",
    "        print(d)\n",
    "\n",
    "loop = asyncio.get_event_loop()\n",
    "loop.run_until_complete(run())"
   ]
  },
  {
   "cell_type": "code",
   "execution_count": null,
   "metadata": {},
   "outputs": [],
   "source": [
    "from bleak import BleakClient\n",
    "async with BleakClient(address) as client:\n",
    "    res = client.read_gatt_char()"
   ]
  },
  {
   "cell_type": "code",
   "execution_count": null,
   "metadata": {},
   "outputs": [],
   "source": []
  }
 ],
 "metadata": {
  "kernelspec": {
   "display_name": "Python 3",
   "language": "python",
   "name": "python3"
  },
  "language_info": {
   "codemirror_mode": {
    "name": "ipython",
    "version": 3
   },
   "file_extension": ".py",
   "mimetype": "text/x-python",
   "name": "python",
   "nbconvert_exporter": "python",
   "pygments_lexer": "ipython3",
   "version": "3.7.10"
  }
 },
 "nbformat": 4,
 "nbformat_minor": 4
}
